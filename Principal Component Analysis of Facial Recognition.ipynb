{
 "cells": [
  {
   "cell_type": "markdown",
   "metadata": {},
   "source": [
    "# Principal Component Analysis of Facial Recognition\n",
    "---"
   ]
  },
  {
   "cell_type": "markdown",
   "metadata": {},
   "source": [
    "\n",
    "**Author:** Aman Hussain  \n",
    "**Email:** aman@amandavince.me  \n",
    "**Description:** Implementation of Principal Analysis Component features for face recognition\n",
    "___"
   ]
  },
  {
   "cell_type": "markdown",
   "metadata": {},
   "source": [
    "## Import Libraries"
   ]
  },
  {
   "cell_type": "code",
   "execution_count": 3,
   "metadata": {},
   "outputs": [],
   "source": [
    "import os\n",
    "import scipy as sp\n",
    "import numpy as np\n",
    "import pandas as pd\n",
    "import matplotlib.pyplot as plt\n",
    "\n",
    "from skimage import io\n",
    "from skimage.feature import greycomatrix\n",
    "\n",
    "%matplotlib inline"
   ]
  },
  {
   "cell_type": "code",
   "execution_count": 4,
   "metadata": {},
   "outputs": [],
   "source": [
    "import cv2"
   ]
  },
  {
   "cell_type": "markdown",
   "metadata": {},
   "source": [
    "## Global Config"
   ]
  },
  {
   "cell_type": "code",
   "execution_count": 5,
   "metadata": {},
   "outputs": [],
   "source": [
    "# Number of EigenFaces\n",
    "NUM_EIGEN_FACES = 10\n",
    "\n",
    "# Maximum weight\n",
    "MAX_SLIDER_VALUE = 255"
   ]
  },
  {
   "cell_type": "markdown",
   "metadata": {},
   "source": [
    "## Load Image Datasets"
   ]
  },
  {
   "cell_type": "code",
   "execution_count": 6,
   "metadata": {},
   "outputs": [],
   "source": [
    "img_path = 'faces_temp/'"
   ]
  },
  {
   "cell_type": "code",
   "execution_count": 7,
   "metadata": {},
   "outputs": [],
   "source": [
    "def load_image_dir(path):\n",
    "    images = []\n",
    "    filenames = []\n",
    "    for filename in os.listdir(path):\n",
    "        filenames.append(os.path.join(path,filename))\n",
    "        img = io.imread(os.path.join(path,filename))\n",
    "        if img is not None:\n",
    "            images.append(img)\n",
    "    return images, filenames"
   ]
  },
  {
   "cell_type": "code",
   "execution_count": 8,
   "metadata": {},
   "outputs": [],
   "source": [
    "def create_data(images):\n",
    "    print(\"Creating data matrix\",end=\" ... \")\n",
    "    ''' \n",
    "    Allocate space for all images in one data matrix. \n",
    "        The size of the data matrix is\n",
    "        ( w  * h  * 3, numImages )\n",
    "        \n",
    "        where,\n",
    "         \n",
    "        w = width of an image in the dataset.\n",
    "        h = height of an image in the dataset.\n",
    "        3 is for the 3 color channels.\n",
    "        '''\n",
    "    numImages = len(images)\n",
    "    sz = images[0].shape\n",
    "    data = np.zeros((numImages, sz[0] * sz[1] * sz[2]), dtype=np.float32)\n",
    "    for i in range(0, numImages):\n",
    "        image = images[i].flatten()\n",
    "        data[i,:] = image\n",
    "\n",
    "    print(\"DONE\")\n",
    "    return data"
   ]
  },
  {
   "cell_type": "code",
   "execution_count": 9,
   "metadata": {},
   "outputs": [],
   "source": [
    "# Read images\n",
    "images, filenames = load_image_dir(img_path)"
   ]
  },
  {
   "cell_type": "code",
   "execution_count": 39,
   "metadata": {},
   "outputs": [
    {
     "name": "stdout",
     "output_type": "stream",
     "text": [
      "Creating data matrix ... DONE\n",
      "Calculating PCA ...DONE\n"
     ]
    }
   ],
   "source": [
    "# Size of images\n",
    "sz = images[0].shape\n",
    "\n",
    "# Create data matrix for PCA.\n",
    "data = create_data(images)\n",
    "\n",
    "# Compute the eigenvectors from the stack of images created\n",
    "print(\"Calculating PCA \", end=\"...\")\n",
    "mean, eigenVectors = cv2.PCACompute(data, mean=None, maxComponents=NUM_EIGEN_FACES)\n",
    "print (\"DONE\")\n",
    "\n",
    "averageFace = mean.reshape(sz)\n",
    "\n",
    "eigenFaces = []; \n",
    "\n",
    "for eigenVector in eigenVectors:\n",
    "    eigenFace = eigenVector.reshape(sz)\n",
    "    eigenFaces.append(eigenFace)"
   ]
  }
 ],
 "metadata": {
  "kernelspec": {
   "display_name": "Python [conda env:image]",
   "language": "python",
   "name": "conda-env-image-py"
  },
  "language_info": {
   "codemirror_mode": {
    "name": "ipython",
    "version": 3
   },
   "file_extension": ".py",
   "mimetype": "text/x-python",
   "name": "python",
   "nbconvert_exporter": "python",
   "pygments_lexer": "ipython3",
   "version": "3.6.2"
  }
 },
 "nbformat": 4,
 "nbformat_minor": 2
}
