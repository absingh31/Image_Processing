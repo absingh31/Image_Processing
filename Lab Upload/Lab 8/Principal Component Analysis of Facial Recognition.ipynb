{
 "cells": [
  {
   "cell_type": "markdown",
   "metadata": {},
   "source": [
    "# Implementation of PCA features on images\n",
    "---"
   ]
  },
  {
   "cell_type": "markdown",
   "metadata": {},
   "source": [
    "\n",
    "**Name:** Abhishek Singh\n",
    "\n",
    "**Registration No:**15BCE1009\n",
    "\n",
    "**Prof:** Dr. Geetha\n",
    "\n",
    "**Description:** Implementation of Principal Analysis Component features for face recognition\n",
    "___"
   ]
  },
  {
   "cell_type": "markdown",
   "metadata": {},
   "source": [
    "## Import Libraries"
   ]
  },
  {
   "cell_type": "code",
   "execution_count": 1,
   "metadata": {
    "collapsed": true
   },
   "outputs": [],
   "source": [
    "import os\n",
    "import scipy as sp\n",
    "import numpy as np\n",
    "import pandas as pd\n",
    "import matplotlib.pyplot as plt\n",
    "import cv2\n",
    "from skimage import io\n",
    "from skimage.feature import greycomatrix\n",
    "\n",
    "%matplotlib inline"
   ]
  },
  {
   "cell_type": "markdown",
   "metadata": {},
   "source": [
    "## Global Config"
   ]
  },
  {
   "cell_type": "code",
   "execution_count": 2,
   "metadata": {
    "collapsed": true
   },
   "outputs": [],
   "source": [
    "# Number of EigenFaces\n",
    "NUM_EIGEN_FACES = 10\n",
    "\n",
    "# Maximum weight\n",
    "MAX_SLIDER_VALUE = 255"
   ]
  },
  {
   "cell_type": "code",
   "execution_count": 6,
   "metadata": {
    "collapsed": true
   },
   "outputs": [],
   "source": [
    "def create_data(images):\n",
    "    print(\"Creating data matrix\",end=\" ... \")\n",
    "\n",
    "    numImages = len(images)\n",
    "    sz = images[0].shape\n",
    "    print(len(sz))\n",
    "    data = np.zeros((numImages, sz[0] * sz[1]), dtype=np.float32)\n",
    "    for i in range(0, numImages):\n",
    "        image = images[i].flatten()\n",
    "        data[i,:] = image\n",
    "\n",
    "    print(\"DONE\")\n",
    "    return data"
   ]
  },
  {
   "cell_type": "code",
   "execution_count": 7,
   "metadata": {
    "collapsed": true
   },
   "outputs": [],
   "source": [
    "# Read images\n",
    "images, filenames = load_image_dir(img_path)"
   ]
  },
  {
   "cell_type": "code",
   "execution_count": 10,
   "metadata": {},
   "outputs": [
    {
     "name": "stdout",
     "output_type": "stream",
     "text": [
      "Creating data matrix ... 2\n",
      "DONE\n",
      "Calculating PCA ...DONE\n",
      "10\n",
      "[[  1.82568980e-03   1.92126899e-03   1.93831848e-03 ...,   0.00000000e+00\n",
      "   -2.40981262e-06  -4.65956080e-04]\n",
      " [  2.82525807e-03   3.13297915e-03   3.05269356e-03 ...,   0.00000000e+00\n",
      "   -6.81682513e-06  -6.26837427e-04]\n",
      " [  3.08348658e-03   3.25347204e-03   3.22042382e-03 ...,  -6.31891999e-06\n",
      "   -1.56595954e-04  -1.00206968e-03]\n",
      " ..., \n",
      " [  2.75077857e-03   2.98560131e-03   3.32106207e-03 ...,  -5.23932977e-04\n",
      "   -3.01625376e-04  -2.19299065e-04]\n",
      " [  3.15333158e-03   3.50819970e-03   3.70348850e-03 ...,  -5.55412611e-04\n",
      "   -7.20365497e-04  -2.38249500e-04]\n",
      " [  3.25396983e-03   3.60612245e-03   3.63736646e-03 ...,  -6.84547471e-04\n",
      "   -9.76904528e-04  -3.06086789e-04]]\n",
      "[[ -7.93442712e-04  -1.09382195e-03  -1.96761801e-03 ...,   0.00000000e+00\n",
      "    5.44531867e-05   5.91801596e-04]\n",
      " [ -2.11648783e-03  -2.71251216e-03  -3.74446949e-03 ...,   0.00000000e+00\n",
      "    3.10923278e-05   1.22490907e-04]\n",
      " [ -3.56511609e-03  -3.97346821e-03  -3.95020982e-03 ...,   1.32028663e-05\n",
      "    1.11373178e-04  -4.35287438e-05]\n",
      " ..., \n",
      " [ -3.37413745e-03  -3.66217317e-03  -4.07365337e-03 ...,   1.48756732e-03\n",
      "    2.02680030e-03   1.65457651e-03]\n",
      " [ -3.86791350e-03  -3.44440248e-03  -3.99982836e-03 ...,   5.04390511e-04\n",
      "    1.59910554e-03   2.93674506e-03]\n",
      " [ -3.99135752e-03  -3.24514532e-03  -3.89981805e-03 ...,  -6.29791408e-04\n",
      "    8.96440004e-04   2.60489783e-03]]\n",
      "[[  1.82105543e-03   1.62443204e-03   8.88809911e-04 ...,   0.00000000e+00\n",
      "   -7.76922479e-06   9.00944171e-04]\n",
      " [  1.93439890e-03   1.83518068e-03   8.39901273e-04 ...,   0.00000000e+00\n",
      "   -1.94027889e-05   5.80925378e-04]\n",
      " [  1.01644907e-03   8.93970602e-04   8.86049704e-04 ...,  -1.80940424e-05\n",
      "    2.24538875e-04   7.73672771e-04]\n",
      " ..., \n",
      " [  7.56834168e-04   8.21441936e-04   9.13738739e-04 ...,   1.72080228e-03\n",
      "    2.01034872e-03   1.62191014e-03]\n",
      " [  8.67590366e-04   1.71313155e-03   1.37557229e-03 ...,   8.23054055e-04\n",
      "    1.96493766e-03   2.75481748e-03]\n",
      " [  8.95279401e-04   2.05167010e-03   1.41595514e-03 ...,   3.67675311e-05\n",
      "    1.60458416e-03   2.53495807e-03]]\n",
      "[[  5.79165469e-04   5.18830144e-04   6.94722694e-05 ...,   0.00000000e+00\n",
      "    1.84374396e-04   5.79674263e-04]\n",
      " [  5.51026780e-04   4.19686694e-04  -2.04013166e-04 ...,   0.00000000e+00\n",
      "    2.11390161e-05  -2.10142316e-05]\n",
      " [ -2.57282300e-05  -1.51483982e-04  -2.15222681e-04 ...,  -4.48415849e-05\n",
      "    2.64664723e-05   3.24534019e-04]\n",
      " ..., \n",
      " [ -1.83836033e-04  -1.99529357e-04  -2.21948401e-04 ...,   9.26977315e-04\n",
      "    1.03649136e-03   6.60789199e-04]\n",
      " [ -2.10738886e-04   2.69369164e-04   2.98704603e-04 ...,   4.80869843e-04\n",
      "    1.01786922e-03   1.43013336e-03]\n",
      " [ -2.17464592e-04   3.52426548e-04   1.78190036e-04 ...,  -1.26455052e-04\n",
      "    5.68370160e-04   1.26888161e-03]]\n",
      "[[ 0.00165779  0.00176751  0.00086128 ...,  0.          0.00012136\n",
      "   0.00067189]\n",
      " [ 0.00206769  0.00188563  0.00067238 ...,  0.          0.00016964\n",
      "   0.00074511]\n",
      " [ 0.00092462  0.00074586  0.00070932 ...,  0.0001405   0.00021017\n",
      "   0.00046792]\n",
      " ..., \n",
      " [ 0.00060588  0.0006576   0.00073149 ...,  0.00157665  0.00194285\n",
      "   0.00164225]\n",
      " [ 0.00069454  0.00162638  0.00164533 ...,  0.0008821   0.00179883\n",
      "   0.00274545]\n",
      " [ 0.00071671  0.00186261  0.00164542 ..., -0.00024564  0.00129059\n",
      "   0.00243069]]\n",
      "[[  1.04107545e-04   2.04619399e-04   2.25142605e-04 ...,   0.00000000e+00\n",
      "    3.38539248e-04   5.69152995e-04]\n",
      " [  3.73586285e-04   4.47673257e-04   2.28996840e-04 ...,   0.00000000e+00\n",
      "   -5.74835831e-05   2.65547220e-04]\n",
      " [  5.31410449e-04   3.65457876e-04   2.41579080e-04 ...,  -1.78845890e-04\n",
      "    7.77027453e-05   5.27657510e-04]\n",
      " ..., \n",
      " [  2.06348792e-04   2.23963943e-04   2.49128439e-04 ...,   8.89550356e-05\n",
      "   -1.33068868e-04  -2.45370138e-05]\n",
      " [  2.36546184e-04   3.93808004e-04   6.29939314e-04 ...,   1.29240580e-04\n",
      "    1.29737091e-04  -2.49069766e-04]\n",
      " [  2.44095543e-04   3.15649493e-04   4.06550418e-04 ...,   1.40679185e-04\n",
      "    3.37350328e-04   1.18290875e-04]]\n",
      "[[  6.40756101e-04   4.45358281e-04   1.17135576e-04 ...,   0.00000000e+00\n",
      "    8.99828228e-05   1.26740881e-04]\n",
      " [  5.00582624e-04   2.41931572e-04  -5.06379474e-05 ...,   0.00000000e+00\n",
      "    2.98505358e-04   6.22782536e-05]\n",
      " [ -1.10435598e-04  -3.48979775e-05  -5.34202518e-05 ...,   2.79426633e-04\n",
      "    2.31851431e-04   4.13097790e-04]\n",
      " ..., \n",
      " [ -4.56298003e-05  -4.95250279e-05  -5.50896366e-05 ...,   7.58687383e-04\n",
      "    1.30946923e-03   1.20478659e-03]\n",
      " [ -5.23073322e-05   1.39620373e-04   5.50524797e-04 ...,   8.68322852e-04\n",
      "    1.22610875e-03   1.46999734e-03]\n",
      " [ -5.39767170e-05   4.97989415e-04   1.08608081e-04 ...,  -1.53090354e-04\n",
      "    8.95628182e-04   1.40098832e-03]]\n",
      "[[ -7.70728686e-04  -7.84106785e-04  -5.97128877e-04 ...,   0.00000000e+00\n",
      "    3.23907807e-05  -7.25180007e-06]\n",
      " [ -1.27634834e-04   5.74750709e-04   1.52243549e-04 ...,   0.00000000e+00\n",
      "   -1.30722462e-03  -1.83034863e-04]\n",
      " [  1.63277145e-04  -1.05040672e-03   1.60608572e-04 ...,  -9.45363063e-05\n",
      "    5.56172919e-04   5.78495499e-04]\n",
      " ..., \n",
      " [  1.37186493e-04   1.48897525e-04   1.65627585e-04 ...,  -1.52106793e-03\n",
      "   -4.32962581e-04  -1.01496011e-03]\n",
      " [  1.57262562e-04  -5.70388278e-04  -5.65749477e-04 ...,   1.02417497e-03\n",
      "   -3.65607673e-04  -5.96126018e-04]\n",
      " [  1.62281591e-04   5.91779186e-04   6.42386382e-04 ...,   6.53249299e-05\n",
      "   -2.61330482e-04   1.26649611e-04]]\n",
      "[[-0.0015849  -0.0028823   0.000931   ...,  0.         -0.00767394\n",
      "   0.00276048]\n",
      " [-0.00345384  0.00200401 -0.00593818 ...,  0.         -0.00550519\n",
      "  -0.004874  ]\n",
      " [-0.00335916 -0.00365897 -0.0058435  ..., -0.00256324 -0.00481878\n",
      "   0.00312341]\n",
      " ..., \n",
      " [-0.00100106 -0.00342228 -0.00323293 ...,  0.00242122  0.00025247\n",
      "   0.00262636]\n",
      " [-0.0033276   0.00437     0.00186988 ...,  0.00059173 -0.00219242\n",
      "  -0.00229499]\n",
      " [-0.00071703  0.00488284 -0.00291733 ...,  0.00275259 -0.00207407\n",
      "  -0.00202673]]\n",
      "[[ -1.74747733e-03  -1.43543817e-03  -1.76551158e-03 ...,   0.00000000e+00\n",
      "    1.66356727e-03  -5.94139041e-04]\n",
      " [ -1.72762852e-03  -2.75623030e-03  -5.54662838e-04 ...,   0.00000000e+00\n",
      "    7.69127917e-04   1.09573849e-03]\n",
      " [ -1.19779364e-03  -1.47631986e-03  -6.75327319e-04 ...,   4.51700587e-04\n",
      "    1.13656477e-03  -5.70461307e-05]\n",
      " ..., \n",
      " [ -1.43175374e-03  -1.05354062e-03  -1.29486958e-03 ...,  -1.42790331e-03\n",
      "   -1.14041532e-03  -1.73999788e-03]\n",
      " [ -1.17420510e-03  -3.63887544e-03  -3.09554255e-03 ...,   7.34873829e-05\n",
      "   -1.68859522e-04  -1.11512293e-03]\n",
      " [ -1.79374719e-03  -3.71962087e-03  -1.69950374e-03 ...,   6.36183322e-05\n",
      "    2.46661715e-04  -8.02121183e-04]]\n"
     ]
    }
   ],
   "source": [
    "# Size of images\n",
    "sz = images[0].shape\n",
    "\n",
    "# Create data matrix for PCA.\n",
    "data = create_data(images)\n",
    "\n",
    "# Compute the eigenvectors from the stack of images created\n",
    "print(\"Calculating PCA \", end=\"...\")\n",
    "mean, eigenVectors = cv2.PCACompute(data, mean=None, maxComponents=NUM_EIGEN_FACES)\n",
    "print (\"DONE\")\n",
    "\n",
    "averageFace = mean.reshape(sz)\n",
    "\n",
    "eigenFaces = []; \n",
    "print(len(eigenVectors))\n",
    "for eigenVector in eigenVectors:\n",
    "    eigenFace = eigenVector.reshape(sz)\n",
    "    eigenFaces.append(eigenFace)\n",
    "    print(eigenVector[:10])\n"
   ]
  },
  {
   "cell_type": "markdown",
   "metadata": {},
   "source": [
    "## Load Images from Dataset"
   ]
  },
  {
   "cell_type": "code",
   "execution_count": 4,
   "metadata": {
    "collapsed": true
   },
   "outputs": [],
   "source": [
    "img_path = 'faces/'"
   ]
  },
  {
   "cell_type": "code",
   "execution_count": 5,
   "metadata": {
    "collapsed": true
   },
   "outputs": [],
   "source": [
    "def load_image_dir(path):\n",
    "    images = []\n",
    "    filenames = []\n",
    "    for filename in os.listdir(path):\n",
    "        filenames.append(os.path.join(path,filename))\n",
    "        img = io.imread(os.path.join(path,filename))\n",
    "        if img is not None:\n",
    "            images.append(img)\n",
    "    #print(images)\n",
    "    #print(filenames)\n",
    "    return images, filenames"
   ]
  },
  {
   "cell_type": "markdown",
   "metadata": {},
   "source": [
    "## Writing to excel file"
   ]
  },
  {
   "cell_type": "markdown",
   "metadata": {},
   "source": [
    "** Writing only first 10 pca features of each image, actual size of each image feature matrix is 77760** \n",
    "\n",
    "** Illustrated below**"
   ]
  },
  {
   "cell_type": "code",
   "execution_count": 78,
   "metadata": {},
   "outputs": [
    {
     "name": "stdout",
     "output_type": "stream",
     "text": [
      "Number of pca features for each image is 77760\n"
     ]
    }
   ],
   "source": [
    "print(\"Number of pca features for each image is {}\".format(len(eigenVectors[0])))"
   ]
  },
  {
   "cell_type": "code",
   "execution_count": null,
   "metadata": {
    "collapsed": true
   },
   "outputs": [],
   "source": []
  },
  {
   "cell_type": "code",
   "execution_count": 12,
   "metadata": {},
   "outputs": [
    {
     "name": "stdout",
     "output_type": "stream",
     "text": [
      "Done\n"
     ]
    }
   ],
   "source": [
    "feature_set = pd.DataFrame(columns=['Image', 'PCA Feature No 1','PCA Feature No 2', 'PCA Feature No 3', 'PCA Feature No 4', 'PCA Feature No 5', 'PCA Feature No 6', 'PCA Feature No 7', 'PCA Feature No 8', 'PCA Feature No 9', 'PCA Feature No 10'])\n",
    "for img, name, eigenVal in zip(images, filenames, eigenVectors):\n",
    "    row = {'Image': name,\n",
    "          'PCA Feature No 1': eigenVal[0],\n",
    "          'PCA Feature No 2': eigenVal[1],\n",
    "          'PCA Feature No 3': eigenVal[2],\n",
    "          'PCA Feature No 4': eigenVal[3],\n",
    "          'PCA Feature No 5': eigenVal[4],\n",
    "          'PCA Feature No 6': eigenVal[5],\n",
    "          'PCA Feature No 7': eigenVal[6],\n",
    "          'PCA Feature No 8': eigenVal[7],\n",
    "          'PCA Feature No 9': eigenVal[8],\n",
    "          'PCA Feature No 10': eigenVal[9],\n",
    "          }\n",
    "    feature_set = feature_set.append(row, ignore_index=True)\n",
    "\n",
    "feature_set.to_excel('Output.xlsx', sheet_name='sheet1', index=False)\n",
    "    \n",
    "print('Done')\n"
   ]
  }
 ],
 "metadata": {
  "kernelspec": {
   "display_name": "Python 3",
   "language": "python",
   "name": "python3"
  },
  "language_info": {
   "codemirror_mode": {
    "name": "ipython",
    "version": 3
   },
   "file_extension": ".py",
   "mimetype": "text/x-python",
   "name": "python",
   "nbconvert_exporter": "python",
   "pygments_lexer": "ipython3",
   "version": "3.5.3"
  }
 },
 "nbformat": 4,
 "nbformat_minor": 2
}
