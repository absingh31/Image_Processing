{
 "cells": [
  {
   "cell_type": "markdown",
   "metadata": {},
   "source": [
    "# Implementation of PCA features on images\n",
    "---"
   ]
  },
  {
   "cell_type": "markdown",
   "metadata": {},
   "source": [
    "\n",
    "**Name:** Abhishek Singh\n",
    "\n",
    "**Registration No:**15BCE1009\n",
    "\n",
    "**Prof:** Dr. Geetha\n",
    "\n",
    "**Description:** Implementation of Principal Analysis Component features for face recognition\n",
    "___"
   ]
  },
  {
   "cell_type": "markdown",
   "metadata": {},
   "source": [
    "## Import Libraries"
   ]
  },
  {
   "cell_type": "code",
   "execution_count": 1,
   "metadata": {
    "collapsed": true
   },
   "outputs": [],
   "source": [
    "import os\n",
    "import scipy as sp\n",
    "import numpy as np\n",
    "import pandas as pd\n",
    "import matplotlib.pyplot as plt\n",
    "import cv2\n",
    "from skimage import io\n",
    "from skimage.feature import greycomatrix\n",
    "\n",
    "%matplotlib inline"
   ]
  },
  {
   "cell_type": "markdown",
   "metadata": {},
   "source": [
    "## Global Config"
   ]
  },
  {
   "cell_type": "code",
   "execution_count": 2,
   "metadata": {
    "collapsed": true
   },
   "outputs": [],
   "source": [
    "# Number of EigenFaces\n",
    "NUM_EIGEN_FACES = 10\n",
    "\n",
    "# Maximum weight\n",
    "MAX_SLIDER_VALUE = 255"
   ]
  },
  {
   "cell_type": "code",
   "execution_count": 6,
   "metadata": {
    "collapsed": true
   },
   "outputs": [],
   "source": [
    "def create_data(images):\n",
    "    print(\"Creating data matrix\",end=\" ... \")\n",
    "\n",
    "    numImages = len(images)\n",
    "    sz = images[0].shape\n",
    "    print(len(sz))\n",
    "    data = np.zeros((numImages, sz[0] * sz[1]), dtype=np.float32)\n",
    "    for i in range(0, numImages):\n",
    "        image = images[i].flatten()\n",
    "        data[i,:] = image\n",
    "\n",
    "    print(\"DONE\")\n",
    "    return data"
   ]
  },
  {
   "cell_type": "code",
   "execution_count": 7,
   "metadata": {
    "collapsed": true
   },
   "outputs": [],
   "source": [
    "# Read images\n",
    "images, filenames = load_image_dir(img_path)"
   ]
  },
  {
   "cell_type": "code",
   "execution_count": 8,
   "metadata": {},
   "outputs": [
    {
     "name": "stdout",
     "output_type": "stream",
     "text": [
      "Creating data matrix ... 2\n",
      "DONE\n",
      "Calculating PCA ...DONE\n",
      "10\n",
      "[ 0.00182569  0.00192127  0.00193832 ...,  0.          0.          0.        ]\n",
      "[-0.00079344 -0.00109382 -0.00196762 ...,  0.          0.          0.        ]\n",
      "[ 0.00182106  0.00162443  0.00088881 ...,  0.          0.          0.        ]\n",
      "[  5.79165469e-04   5.18830144e-04   6.94722694e-05 ...,   0.00000000e+00\n",
      "   0.00000000e+00   0.00000000e+00]\n",
      "[ 0.00165779  0.00176751  0.00086128 ...,  0.          0.          0.        ]\n",
      "[ 0.00010411  0.00020462  0.00022514 ...,  0.          0.          0.        ]\n",
      "[ 0.00064076  0.00044536  0.00011714 ...,  0.          0.          0.        ]\n",
      "[-0.00077073 -0.00078411 -0.00059713 ...,  0.          0.          0.        ]\n",
      "[-0.0015849 -0.0028823  0.000931  ...,  0.         0.         0.       ]\n",
      "[-0.00174748 -0.00143544 -0.00176551 ...,  0.          0.          0.        ]\n"
     ]
    }
   ],
   "source": [
    "# Size of images\n",
    "sz = images[0].shape\n",
    "\n",
    "# Create data matrix for PCA.\n",
    "data = create_data(images)\n",
    "\n",
    "# Compute the eigenvectors from the stack of images created\n",
    "print(\"Calculating PCA \", end=\"...\")\n",
    "mean, eigenVectors = cv2.PCACompute(data, mean=None, maxComponents=NUM_EIGEN_FACES)\n",
    "print (\"DONE\")\n",
    "\n",
    "averageFace = mean.reshape(sz)\n",
    "\n",
    "eigenFaces = []; \n",
    "print(len(eigenVectors))\n",
    "for eigenVector in eigenVectors:\n",
    "    eigenFace = eigenVector.reshape(sz)\n",
    "    eigenFaces.append(eigenFace)\n",
    "    print(eigenVector)\n"
   ]
  },
  {
   "cell_type": "markdown",
   "metadata": {},
   "source": [
    "## Load Images from Dataset"
   ]
  },
  {
   "cell_type": "code",
   "execution_count": 4,
   "metadata": {
    "collapsed": true
   },
   "outputs": [],
   "source": [
    "img_path = 'faces/'"
   ]
  },
  {
   "cell_type": "code",
   "execution_count": 5,
   "metadata": {
    "collapsed": true
   },
   "outputs": [],
   "source": [
    "def load_image_dir(path):\n",
    "    images = []\n",
    "    filenames = []\n",
    "    for filename in os.listdir(path):\n",
    "        filenames.append(os.path.join(path,filename))\n",
    "        img = io.imread(os.path.join(path,filename))\n",
    "        if img is not None:\n",
    "            images.append(img)\n",
    "    #print(images)\n",
    "    #print(filenames)\n",
    "    return images, filenames"
   ]
  },
  {
   "cell_type": "markdown",
   "metadata": {},
   "source": [
    "## Writing to excel file"
   ]
  },
  {
   "cell_type": "markdown",
   "metadata": {},
   "source": [
    "** Writing only first 10 pca features of each image, actual size of each image feature matrix is 77760** \n",
    "\n",
    "** Illustrated below**"
   ]
  },
  {
   "cell_type": "code",
   "execution_count": 78,
   "metadata": {},
   "outputs": [
    {
     "name": "stdout",
     "output_type": "stream",
     "text": [
      "Number of pca features for each image is 77760\n"
     ]
    }
   ],
   "source": [
    "print(\"Number of pca features for each image is {}\".format(len(eigenVectors[0])))"
   ]
  },
  {
   "cell_type": "code",
   "execution_count": null,
   "metadata": {
    "collapsed": true
   },
   "outputs": [],
   "source": []
  },
  {
   "cell_type": "code",
   "execution_count": 90,
   "metadata": {},
   "outputs": [
    {
     "name": "stdout",
     "output_type": "stream",
     "text": [
      "Done\n"
     ]
    }
   ],
   "source": [
    "feature_set = pd.DataFrame(columns=['Image', 'PCA Feature No 1','PCA Feature No 2', 'PCA Feature No 3', 'PCA Feature No 4', 'PCA Feature No 5', 'PCA Feature No 6', 'PCA Feature No 7', 'PCA Feature No 8', 'PCA Feature No 9', 'PCA Feature No 10'])\n",
    "for img, name in zip(images, filenames):\n",
    "    row = {'Image': name,\n",
    "          'PCA Feature No 1': eigenFaces[0][0:10],\n",
    "          'PCA Feature No 2': eigenFaces[1][0:10],\n",
    "          'PCA Feature No 3': eigenFaces[2][0:10],\n",
    "          'PCA Feature No 4': eigenFaces[3][0:10],\n",
    "          'PCA Feature No 5': eigenFaces[4][0:10],\n",
    "          'PCA Feature No 6': eigenFaces[5][0:10],\n",
    "          'PCA Feature No 7': eigenFaces[6][0:10],\n",
    "          'PCA Feature No 8': eigenFaces[7][0:10],\n",
    "          'PCA Feature No 9': eigenFaces[8][0:10],\n",
    "          'PCA Feature No 10': eigenFaces[9][0:10],\n",
    "          }\n",
    "    feature_set = feature_set.append(row, ignore_index=True)\n",
    "\n",
    "feature_set.to_excel('Output.xlsx', sheet_name='sheet1', index=False)\n",
    "    \n",
    "print('Done')\n"
   ]
  }
 ],
 "metadata": {
  "kernelspec": {
   "display_name": "Python 3",
   "language": "python",
   "name": "python3"
  },
  "language_info": {
   "codemirror_mode": {
    "name": "ipython",
    "version": 3
   },
   "file_extension": ".py",
   "mimetype": "text/x-python",
   "name": "python",
   "nbconvert_exporter": "python",
   "pygments_lexer": "ipython3",
   "version": "3.5.3"
  }
 },
 "nbformat": 4,
 "nbformat_minor": 2
}
