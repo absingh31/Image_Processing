{
 "cells": [
  {
   "cell_type": "markdown",
   "metadata": {},
   "source": [
    "# DIGITAL ASSIGNMENT 1"
   ]
  },
  {
   "cell_type": "markdown",
   "metadata": {},
   "source": [
    "** Abhishek Singh**   \n",
    "**15BCE1009**"
   ]
  },
  {
   "cell_type": "markdown",
   "metadata": {},
   "source": [
    "**This assignment covers finding the euclidean distance between 2 pixels. To make it more challenging couple of things are included. First of all identification of objects are done in, then spatial alignment is done of all the objects in clockwise direction. Then edge detection is done for all the objects and we find the distance between the reference object and all the other objects (here the reference object is first object on leftmost side). Every distance is displayed on screen and to see the next distance press enter and enjoy the animation done on the image**"
   ]
  },
  {
   "cell_type": "code",
   "execution_count": 1,
   "metadata": {
    "collapsed": true
   },
   "outputs": [],
   "source": [
    "%matplotlib inline\n",
    "import cv2\n",
    "import imutils \n",
    "import numpy as np\n",
    "from scipy.spatial import distance as dist\n",
    "from imutils import perspective\n",
    "from imutils import contours\n",
    "import matplotlib.pyplot as plt\n",
    "import time"
   ]
  },
  {
   "cell_type": "code",
   "execution_count": 2,
   "metadata": {
    "collapsed": true
   },
   "outputs": [],
   "source": [
    "args = {'image': 'images/example_03.png'}"
   ]
  },
  {
   "cell_type": "code",
   "execution_count": 3,
   "metadata": {
    "collapsed": true
   },
   "outputs": [],
   "source": [
    "# load the image, convert it to grayscale, and blur it slightly\n",
    "image = cv2.imread(args[\"image\"])\n",
    "gray = cv2.cvtColor(image, cv2.COLOR_BGR2GRAY)\n",
    "gray = cv2.GaussianBlur(gray, (7, 7), 0)"
   ]
  },
  {
   "cell_type": "code",
   "execution_count": 4,
   "metadata": {
    "collapsed": true
   },
   "outputs": [],
   "source": [
    "# perform edge detection, then perform a dilation + erosion to\n",
    "# close gaps in between object edges\n",
    "edged = cv2.Canny(gray, 50, 100)\n",
    "edged = cv2.dilate(edged, None, iterations=1)\n",
    "edged = cv2.erode(edged, None, iterations=1)"
   ]
  },
  {
   "cell_type": "code",
   "execution_count": 5,
   "metadata": {
    "collapsed": true
   },
   "outputs": [],
   "source": [
    "# find contours in the edge map\n",
    "cnts = cv2.findContours(edged.copy(), cv2.RETR_EXTERNAL,cv2.CHAIN_APPROX_SIMPLE)\n",
    "cnts = cnts[0] if imutils.is_cv2() else cnts[1]"
   ]
  },
  {
   "cell_type": "code",
   "execution_count": 6,
   "metadata": {
    "collapsed": true
   },
   "outputs": [],
   "source": [
    "# sort the contours from left-to-right and, then initialize the\n",
    "# distance colors and reference object\n",
    "(cnts, _) = contours.sort_contours(cnts)\n",
    "colors = ((0, 0, 255), (240, 0, 159), (0, 165, 255), (255, 255, 0),(255, 0, 255))\n",
    "refObj = None"
   ]
  },
  {
   "cell_type": "code",
   "execution_count": 7,
   "metadata": {
    "collapsed": true
   },
   "outputs": [],
   "source": [
    "def midpoint(ptA, ptB):\n",
    "    return ((ptA[0] + ptB[0]) * 0.5, (ptA[1] + ptB[1]) * 0.5)"
   ]
  },
  {
   "cell_type": "code",
   "execution_count": 8,
   "metadata": {
    "collapsed": true
   },
   "outputs": [],
   "source": [
    "# loop over the contours individually\n",
    "for c in cnts:\n",
    "    # if the contour is not sufficiently large, ignore it\n",
    "    if cv2.contourArea(c) < 100:\n",
    "        continue\n",
    "\n",
    "    # compute the rotated bounding box of the contour\n",
    "    box = cv2.minAreaRect(c)\n",
    "    box = cv2.cv.BoxPoints(box) if imutils.is_cv2() else cv2.boxPoints(box)\n",
    "    box = np.array(box, dtype=\"int\")\n",
    "\n",
    "    # order the points in the contour such that they appear\n",
    "    # in top-left, top-right, bottom-right, and bottom-left\n",
    "    # order, then draw the outline of the rotated bounding\n",
    "    # box\n",
    "    box = perspective.order_points(box)\n",
    "\n",
    "    # compute the center of the bounding box\n",
    "    cX = np.average(box[:, 0])\n",
    "    cY = np.average(box[:, 1])\n",
    "\n",
    "    # if this is the first contour we are examining (i.e.,\n",
    "    # the left-most contour), we presume this is the\n",
    "    # reference object\n",
    "    if refObj is None:\n",
    "        # unpack the ordered bounding box, then compute the\n",
    "        # midpoint between the top-left and top-right points,\n",
    "        # followed by the midpoint between the top-right and\n",
    "        # bottom-right\n",
    "        (tl, tr, br, bl) = box\n",
    "        (tlblX, tlblY) = midpoint(tl, bl)\n",
    "        (trbrX, trbrY) = midpoint(tr, br)\n",
    "\n",
    "        # compute the Euclidean distance between the midpoints,\n",
    "        # then construct the reference object\n",
    "        D = dist.euclidean((tlblX, tlblY), (trbrX, trbrY))\n",
    "        refObj = (box, (cX, cY), D / 0.955)\n",
    "        continue\n",
    "\n",
    "    # draw the contours on the image\n",
    "    orig = image.copy()\n",
    "    cv2.drawContours(orig, [box.astype(\"int\")], -1, (0, 255, 0), 2)\n",
    "    cv2.drawContours(orig, [refObj[0].astype(\"int\")], -1, (0, 255, 0), 2)\n",
    "\n",
    "    # stack the reference coordinates and the object coordinates\n",
    "    # to include the object center\n",
    "    refCoords = np.vstack([refObj[0], refObj[1]])\n",
    "    objCoords = np.vstack([box, (cX, cY)])\n",
    "\n",
    "    # loop over the original points\n",
    "    for ((xA, yA), (xB, yB), color) in zip(refCoords, objCoords, colors):\n",
    "        # draw circles corresponding to the current points and\n",
    "        # connect them with a line\n",
    "        cv2.circle(orig, (int(xA), int(yA)), 5, color, -1)\n",
    "        cv2.circle(orig, (int(xB), int(yB)), 5, color, -1)\n",
    "        cv2.line(orig, (int(xA), int(yA)), (int(xB), int(yB)),color, 2)\n",
    "\n",
    "        # compute the Euclidean distance between the coordinates,\n",
    "        # and then convert the distance in pixels to distance in\n",
    "        # units\n",
    "        D = dist.euclidean((xA, yA), (xB, yB)) / refObj[2]\n",
    "        (mX, mY) = midpoint((xA, yA), (xB, yB))\n",
    "        cv2.putText(orig, \"{:.1f}in\".format(D), (int(mX), int(mY - 10)),\n",
    "            cv2.FONT_HERSHEY_SIMPLEX, 0.55, color, 2)\n",
    "\n",
    "        # show the output image\n",
    "        #HTML('<img src=\"orig\">')\n",
    "        cv2.imshow(\"Image\", orig)\n",
    "        cv2.waitKey(0)"
   ]
  }
 ],
 "metadata": {
  "kernelspec": {
   "display_name": "Python 3",
   "language": "python",
   "name": "python3"
  },
  "language_info": {
   "codemirror_mode": {
    "name": "ipython",
    "version": 3
   },
   "file_extension": ".py",
   "mimetype": "text/x-python",
   "name": "python",
   "nbconvert_exporter": "python",
   "pygments_lexer": "ipython3",
   "version": "3.5.3"
  }
 },
 "nbformat": 4,
 "nbformat_minor": 2
}
